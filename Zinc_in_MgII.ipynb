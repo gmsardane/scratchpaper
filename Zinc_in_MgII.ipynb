{
 "cells": [
  {
   "cell_type": "markdown",
   "metadata": {},
   "source": [
    "# <center>Zn and Cr column density limits for the Pitt dR4+dR7 Catalog </center>\n",
    "\n",
    "* ### Started from $\\sim 29 000$ spectra from SDSS dR4 (Pitt Catalog) + dR7 (Eric's list).\n",
    "* ### We can find ZnII in MgII absorbers from $z_{abs} = [0.88, 3.54]$.\n",
    "* ### Magnitudes cuts were implemented $g \\leq $ 19.0 and $r \\leq 18.7$.\n",
    "* ### $W_0^{\\lambda2796} \\geq 0.5 \\AA$.\n",
    "* ### All cuts considered gives 2400-ish spectra to calculate EW limits from"
   ]
  },
  {
   "cell_type": "code",
   "execution_count": 1,
   "metadata": {
    "collapsed": false
   },
   "outputs": [],
   "source": [
    "# Python modules that are useful here.\n",
    "import pandas as pd\n",
    "import numpy as np\n",
    "\n",
    "import matplotlib\n",
    "import matplotlib.pyplot as plt\n",
    "matplotlib.rc('xtick', labelsize=16) \n",
    "matplotlib.rc('ytick', labelsize=16) \n",
    "matplotlib.rcParams['axes.linewidth'] = 2.\n",
    "plt.rcParams['axes.linewidth'] = 4\n",
    "%matplotlib inline\n",
    "\n",
    "from matplotlib.ticker import AutoMinorLocator\n",
    "from matplotlib.ticker import FuncFormatter\n",
    "import matplotlib.font_manager as font_manager\n",
    "from matplotlib import rcParams"
   ]
  },
  {
   "cell_type": "markdown",
   "metadata": {},
   "source": [
    "## <center>I. Re-writing the IDL code that calculates the rest-equivalent width limits </center>\n",
    "#### Code below calculates EW limits using the normalized error array. "
   ]
  },
  {
   "cell_type": "code",
   "execution_count": 2,
   "metadata": {
    "collapsed": false
   },
   "outputs": [],
   "source": [
    "def EW_limits(wave, nflux, nerr):\n",
    "    p=2.35 #for sloan pixels per res el\n",
    "    PP=np.ceil(2*p+1) #one whole feature has this many pixels\n",
    "    \n",
    "    tot_ew=np.zeros(len(wave))\n",
    "    tot_sig_ew=np.zeros(len(wave))\n",
    "    \n",
    "    del_lambda = 0.5*(wave - wave.shift(1))\n",
    "    ew = del_lambda*(1-nflux)\n",
    "    sig_ew = del_lambda*nerr\n",
    "    sse=np.array(sig_ew)**2\n",
    "\n",
    "    for k in range(int(PP/2-1), int(len(wave) - PP/2 -1 + 1)):\n",
    "        tot_sig_ew[k] = np.sqrt(np.sum(sse[k-2:k+2+1])) #Error array for EW per resel\n",
    "    \n",
    "    return tot_sig_ew"
   ]
  },
  {
   "cell_type": "markdown",
   "metadata": {},
   "source": [
    "## <center>II. Load in the list of spectra and calulate EW width limits </center>\n",
    "####  Final output is calculated in the absorber rest-frame at the $2\\sigma$ UPPER LIMIT-level."
   ]
  },
  {
   "cell_type": "code",
   "execution_count": 3,
   "metadata": {
    "collapsed": false
   },
   "outputs": [],
   "source": [
    "spec_list = pd.read_csv('~/Documents/Research/EricDLAMgII/SearchForZincinMgII.txt')\n",
    "metals = [2026.136, 2056.2539, 2062.234, 2066.161, 2852.9642]\n",
    "keys = ['Zn_lim_2026_ALL','Cr_lim_2056','Zn_lim_2062_ALL', 'Cr_lim_2066', 'MgII_lim']\n",
    "data = {key: [] for key in keys}\n",
    "\n",
    "for i in range(len(spec_list)):\n",
    "    file_i = \"/Volumes/Hubble/spSpec-\"+str(spec_list.mjd[i])+'-'+str(spec_list.plate[i]).rjust(4,'0')+ \\\n",
    "               '-'+str(spec_list.fiberid[i]).rjust(3, '0')+'.n'\n",
    "    spec = pd.read_csv(file_i, delim_whitespace=True, skiprows=1)\n",
    "    spec.columns = ['wave', 'flux', 'nflux', 'nerr', 'id', 'pseudo_cont']\n",
    "    ew_limits = 2.0*EW_limits(spec.wave, spec.nflux, spec.nerr)/(1.+spec_list.up_Dzabs[i])\n",
    "    for j in range(len(keys)):\n",
    "        data[keys[j]].append(ew_limits[np.argmin(np.abs(spec.wave/(1.+spec_list.up_Dzabs[i]) - metals[j]))])    \n"
   ]
  },
  {
   "cell_type": "markdown",
   "metadata": {},
   "source": [
    "## <center>III. Infer limits of strongly blended lines using inspiration from Dan's and Gen's paper! </center>"
   ]
  },
  {
   "cell_type": "code",
   "execution_count": 4,
   "metadata": {
    "collapsed": false
   },
   "outputs": [],
   "source": [
    "#Estimate ZnII2026 using MgI2852 limits\n",
    "data['Zn_lim_2026'] = np.array(data['Zn_lim_2026_ALL']) - np.array(data['MgII_lim'])/32.\n",
    "#Estimate CrII2062 from 0.5*(CrII2056+CrII2066)\n",
    "Cr_limits_2062 = np.array(data['Zn_lim_2062_ALL']) - 0.5*(np.array(data['Cr_lim_2056'])\n",
    "                                                             +np.array(data['Cr_lim_2066']))\n",
    "Cr_limits_2062[np.where(Cr_limits_2062 < 0)] = 0.\n",
    "data['Cr_lim_2062'] = Cr_limits_2062\n",
    "#Zn2062\n",
    "data['Zn_lim_2062'] = data['Zn_lim_2062_ALL'] - data['Cr_lim_2062']"
   ]
  },
  {
   "cell_type": "markdown",
   "metadata": {},
   "source": [
    "## <center>IV. Convert EWs into column densities of the metal assuming dominant transition truly dominates, assuming sufficient self-shielding, and the *<font color='green'>**linear regime**</font>*. </center>\n",
    "####  Final REW is reported using the strongest transition in a group of transitions."
   ]
  },
  {
   "cell_type": "code",
   "execution_count": 5,
   "metadata": {
    "collapsed": false
   },
   "outputs": [],
   "source": [
    "#Calculate column densities\n",
    "#The column density should be the maximum limit.\n",
    "Osc_strengths = [ 0.48900,     0.140]#,   0.105,     0.253,   0.0515,    1.8100]\n",
    "rest_wave     = [2026.136, 2056.2539]#, 2062.234, 2062.664, 2066.161, 2852.9642]\n",
    "##Zn Column density limits\n",
    "Zn_col_density = 1.13e20*data['Zn_lim_2026']/rest_wave[0]**2/Osc_strengths[0]\n",
    "Cr_col_density = 1.13e20*np.array(data['Cr_lim_2056'])/rest_wave[1]**2/Osc_strengths[1]"
   ]
  },
  {
   "cell_type": "markdown",
   "metadata": {},
   "source": [
    "## <center>V. Comments </center>\n",
    "\n",
    "Typical values of Zn column densities in the sample (see Excel file sent to Eric) are $N_{Zn}\\sim 10^{13} atoms/cm^{2}$. We now ask how many of the limits are in this range?"
   ]
  },
  {
   "cell_type": "code",
   "execution_count": 6,
   "metadata": {
    "collapsed": false
   },
   "outputs": [
    {
     "name": "stdout",
     "output_type": "stream",
     "text": [
      "\t \t There are 2396 spectra that have 2-sigma REW limits for Zn ~ 10^13 atoms/cm^2,\n",
      "\t \t The minimum value of which is 6.17e11 atoms per cm^2.\n",
      "\t \t There are 2417 total MgII absorbers investigated for ZnII.\n"
     ]
    }
   ],
   "source": [
    "print '\\t \\t There are {} spectra that have 2-sigma REW limits for Zn ~ 10^13 atoms/cm^2,'\\\n",
    ".format(len(Zn_col_density[Zn_col_density < 1e13]))\n",
    "print '\\t \\t The minimum value of which is {0:.2f}e11 atoms per cm^2.'.format(min(Zn_col_density[Zn_col_density < 1e13]/1e11))\n",
    "print '\\t \\t There are {} total MgII absorbers investigated for ZnII.'.format(len(Zn_col_density))"
   ]
  },
  {
   "cell_type": "markdown",
   "metadata": {},
   "source": [
    "### <center>The 2396 REW-limits are distributed as below. </center> </font> "
   ]
  },
  {
   "cell_type": "code",
   "execution_count": 7,
   "metadata": {
    "collapsed": false
   },
   "outputs": [
    {
     "data": {
      "text/plain": [
       "<matplotlib.text.Text at 0x1139a7850>"
      ]
     },
     "execution_count": 7,
     "metadata": {},
     "output_type": "execute_result"
    },
    {
     "data": {
      "image/png": "[encoded data removed]",
      "text/plain": [
       "<matplotlib.figure.Figure at 0x113993a90>"
      ]
     },
     "metadata": {},
     "output_type": "display_data"
    }
   ],
   "source": [
    "plt.hist(Zn_col_density[Zn_col_density < 1e13]/1e13, alpha=0.5)\n",
    "fig_size = plt.rcParams[\"figure.figsize\"]\n",
    "fig_size[0] = 10\n",
    "fig_size[1] = 6\n",
    "plt.rcParams[\"figure.figsize\"] = fig_size\n",
    "plt.ylabel('Counts', fontsize=18)\n",
    "plt.xlabel('Zn '+r'2$\\sigma$ upper limits [10$^{13}$ atoms per cm$^2$]', fontsize=18)"
   ]
  },
  {
   "cell_type": "markdown",
   "metadata": {},
   "source": [
    "### <center>VI. From the MgII catalog we have 103-ish ZnII measured. And we plot the REW distributions below. </center>"
   ]
  },
  {
   "cell_type": "code",
   "execution_count": 8,
   "metadata": {
    "collapsed": false
   },
   "outputs": [
    {
     "data": {
      "text/plain": [
       "<matplotlib.text.Text at 0x113cc47d0>"
      ]
     },
     "execution_count": 8,
     "metadata": {},
     "output_type": "execute_result"
    },
    {
     "data": {
      "image/png": "[encoded data removed]",
      "text/plain": [
       "<matplotlib.figure.Figure at 0x113cef890>"
      ]
     },
     "metadata": {},
     "output_type": "display_data"
    }
   ],
   "source": [
    "#Measured CrII and ZnII\n",
    "catalog_Zn = pd.read_csv('~/Documents/Research/EricDLAMgII/ZnII_in_MgII_dR4_dR7_103.txt')\n",
    "#Convert to REWs:\n",
    "REW_ZnII_2026 = (catalog_Zn.EW2026_all - catalog_Zn.EW2852/32.)/(1.+catalog_Zn.zabs)\n",
    "eREW_ZnII_2026 = np.sqrt(catalog_Zn.EW2026_all_err**2 + (catalog_Zn.EW2852_err/32.)**2)/(1.+catalog_Zn.zabs)\n",
    "#Convert to Zn column density:\n",
    "catalog_Zn_col_density = 1.13e20*REW_ZnII_2026/rest_wave[0]**2/Osc_strengths[0]\n",
    "plt.hist(catalog_Zn_col_density/1e13, bins=10, color='green', alpha=0.6)\n",
    "plt.ylabel('Counts', fontsize=25)\n",
    "plt.xlabel(r'Zn column density $[10^{13}$ atoms per cm$^2$]', fontsize=25)"
   ]
  },
  {
   "cell_type": "markdown",
   "metadata": {},
   "source": [
    "### <center>Consider only those with $W_0^{\\lambda2026} \\geq 5\\sigma $    </center> </font> "
   ]
  },
  {
   "cell_type": "code",
   "execution_count": 22,
   "metadata": {
    "collapsed": false
   },
   "outputs": [
    {
     "name": "stdout",
     "output_type": "stream",
     "text": [
      "\t \t There are 88 good measurements of ZnII 2026 at better than 2-sigma level.\n"
     ]
    },
    {
     "data": {
      "text/plain": [
       "<matplotlib.legend.Legend at 0x11597bad0>"
      ]
     },
     "execution_count": 22,
     "metadata": {},
     "output_type": "execute_result"
    },
    {
     "data": {
      "image/png": "[encoded data removed]",
      "text/plain": [
       "<matplotlib.figure.Figure at 0x113dba510>"
      ]
     },
     "metadata": {},
     "output_type": "display_data"
    }
   ],
   "source": [
    "good_Zn_REW = REW_ZnII_2026[REW_ZnII_2026/eREW_ZnII_2026 >= 2]\n",
    "ZnData = [1.2e13, 1.3e13,1.3e13, 2.2e13, 2.1e13, 2.0e13,2.9e13,1.6e13,9.4e12]\n",
    "print \"\\t \\t There are {} good measurements of ZnII 2026 at better than 2-sigma level.\".format(len(good_Zn_REW))\n",
    "#Convert to Zn column density:\n",
    "catalog_Zn_col_density = 1.13e20*good_Zn_REW/rest_wave[0]**2/Osc_strengths[0]\n",
    "n, bins, patches = plt.hist(catalog_Zn_col_density/1e13, bins=10, color='green', alpha=.7, \n",
    "                            label='Stronger than 2 sigma Zn ONLY')\n",
    "plt.hist(np.array(ZnData)/1e13, alpha=0.5, bins=bins, label='Monier et al. Data')\n",
    "plt.ylabel('Counts', fontsize=20)\n",
    "plt.xlabel(r'Zn column Density $[10^{13}$ atoms per cm$^2$]', fontsize=20)\n",
    "plt.legend()"
   ]
  },
  {
   "cell_type": "markdown",
   "metadata": {},
   "source": [
    "# Conclusion:\n",
    ">> The blue histogram of the **UPPER** limits above tell me that the typical Zn column densities are weaker. What these 103-ish Zn II systems we have represent the highest column densities in our sample of MgII's. But isn't this the reason why we can measure them in SDSS spectra in the first place? "
   ]
  },
  {
   "cell_type": "code",
   "execution_count": null,
   "metadata": {
    "collapsed": true
   },
   "outputs": [],
   "source": []
  }
 ],
 "metadata": {
  "kernelspec": {
   "display_name": "Python 3",
   "language": "python",
   "name": "python3"
  },
  "language_info": {
   "codemirror_mode": {
    "name": "ipython",
    "version": 3
   },
   "file_extension": ".py",
   "mimetype": "text/x-python",
   "name": "python",
   "nbconvert_exporter": "python",
   "pygments_lexer": "ipython3",
   "version": "3.5.1"
  },
  "widgets": {
   "state": {},
   "version": "1.1.2"
  }
 },
 "nbformat": 4,
 "nbformat_minor": 0
}
