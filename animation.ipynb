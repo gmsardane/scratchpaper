{
 "cells": [
  {
   "cell_type": "code",
   "execution_count": 4,
   "metadata": {
    "collapsed": true
   },
   "outputs": [],
   "source": [
    "import os"
   ]
  },
  {
   "cell_type": "code",
   "execution_count": 7,
   "metadata": {
    "collapsed": false
   },
   "outputs": [
    {
     "name": "stdout",
     "output_type": "stream",
     "text": [
      "convert   -delay 20   -loop 0   frames*.png   animated.gif\n"
     ]
    }
   ],
   "source": [
    "build = \"\"\"convert   -delay 20   -loop 0   frames*.png   animated.gif\"\"\"\n",
    "print (build)"
   ]
  },
  {
   "cell_type": "code",
   "execution_count": 11,
   "metadata": {
    "collapsed": false
   },
   "outputs": [
    {
     "data": {
      "text/plain": [
       "256"
      ]
     },
     "execution_count": 11,
     "metadata": {},
     "output_type": "execute_result"
    }
   ],
   "source": [
    "os.system(build)"
   ]
  },
  {
   "cell_type": "code",
   "execution_count": 14,
   "metadata": {
    "collapsed": false
   },
   "outputs": [],
   "source": [
    "import matplotlib\n",
    "matplotlib.use('Agg')\n",
    "import matplotlib.pyplot as plt\n",
    "import matplotlib.animation\n",
    "import numpy as np\n",
    "\n",
    "\n",
    "def init_animation():\n",
    "    global line\n",
    "    line, = ax.plot(x, np.zeros_like(x))\n",
    "    ax.set_xlim(0, 2*np.pi)\n",
    "    ax.set_ylim(-1,1)\n",
    "\n",
    "def animate(i):\n",
    "    line.set_ydata(np.sin(2*np.pi*i / 50)*np.sin(x))\n",
    "    return line,\n",
    "\n",
    "fig = plt.figure()\n",
    "ax = fig.add_subplot(111)\n",
    "x = np.linspace(0, 2*np.pi, 200)\n",
    "\n",
    "ani = matplotlib.animation.FuncAnimation(fig, animate, init_func=init_animation, frames=50)\n",
    "ani.save('animation2.gif', writer='imagemagick', fps=30)"
   ]
  },
  {
   "cell_type": "code",
   "execution_count": null,
   "metadata": {
    "collapsed": true
   },
   "outputs": [],
   "source": []
  }
 ],
 "metadata": {
  "kernelspec": {
   "display_name": "Python 3",
   "language": "python",
   "name": "python3"
  },
  "language_info": {
   "codemirror_mode": {
    "name": "ipython",
    "version": 3
   },
   "file_extension": ".py",
   "mimetype": "text/x-python",
   "name": "python",
   "nbconvert_exporter": "python",
   "pygments_lexer": "ipython3",
   "version": "3.5.1"
  }
 },
 "nbformat": 4,
 "nbformat_minor": 0
}
